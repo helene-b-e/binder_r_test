{
 "cells": [
  {
   "cell_type": "raw",
   "metadata": {},
   "source": [
    "---\n",
    "title: R markdown script from going through R package *'esd'* examples from the package documentation, chapter 2\n",
    "author: \"Helene B. Erlandsen\"\n",
    "date: \"September 4, 2017\"\n",
    "output:\n",
    "  html_document: default\n",
    "  pdf_document: default\n",
    "---"
   ]
  },
  {
   "cell_type": "code",
   "execution_count": null,
   "metadata": {
    "hide_output": true,
    "lines_to_next_cell": 2,
    "name": "setup"
   },
   "outputs": [],
   "source": [
    "knitr::opts_chunk$set(echo = TRUE)\n"
   ]
  },
  {
   "cell_type": "markdown",
   "metadata": {},
   "source": [
    "Notes and copy of R '*esd*' from the MET report no 11/15:\n",
    "**‘esd’ - The Empirical-Statistical Downscaling tool & its visualisation capabilities**, by *Rasmus E. Benestad, Abdelkader Mezghani, & Kajsa M. Parding*"
   ]
  },
  {
   "cell_type": "markdown",
   "metadata": {},
   "source": [
    "The documentation for '*esd*': (https://figshare.com/articles/_esd_The_Empirical_Statistical_Downscaling_tool_amp_its_visualisation_capabilities_/1454425) includes several examples and a [wiki](https://github.com/metno/esd/wiki)-page with instructions for downloading and installing the esd-library. \n",
    "\n",
    "###R-studio and R-markdown-newbie-help\n",
    "Instructions and help found [here (cheat sheet)](https://www.rstudio.com/wp-content/uploads/2015/02/rmarkdown-cheatsheet.pdf), and e.g. in a Penn State Course ([link to STAT297](https://smac-group.github.io/ds/))"
   ]
  },
  {
   "cell_type": "markdown",
   "metadata": {},
   "source": [
    "After installing esd (see the wiki above) import the package functions to the workspace by typing:\n",
    "library(esd). The examples will not work until this is done."
   ]
  },
  {
   "cell_type": "code",
   "execution_count": null,
   "metadata": {
    "lines_to_next_cell": 2
   },
   "outputs": [],
   "source": [
    "\n",
    "library(esd)"
   ]
  },
  {
   "cell_type": "markdown",
   "metadata": {},
   "source": [
    "# R '*esd*' documentation examples. Chapter 2:\n",
    "This section is about the structure of ESD in R, how ESD is built, what classes are and how they are used, and what happens when you call a function. \n",
    "\n",
    "### Some notation too keep an eye up for\n",
    "R **packages**: ESD and clim.pact are packages in R. ESD builds on clim.pact\n",
    "\n",
    "**objects**: meta-data object: 'stationmeta'\n",
    "\n",
    "S3 is a built in R-**method**. A *data.frame* is an S3 object.\n",
    "\n",
    "**class** defines the object type ('zoo' is a unsorted-time-series-class avaliable in *esd* )\n",
    "\n",
    "In the R S3-**method**: objects do not \"have\" functions (e.g. fig.plot()), but ** generic functions** are called and how they are executed (the methods/messages) depend on the class of the object which is an argument to the function (e.g. summary(df['test'])). Many functions in the '*esd*'-package are inherited from the '*clim.pact*'-package. \n",
    "\n",
    "###From the documentation:\n",
    "\"*A short and single line in R produces a complex figure with various information: the generic ‘plot’ yields a plot as seen in the left panel of Figure 4 or can make a graphical presentation of downscaled results that both shows the numbers as well as their quality. How is that possible?*\n",
    "\n",
    "*The trick is to define different data object types, known as ‘classes’ in R and define a specific data reference syntax (DRS) or common information model (CIM) that includes the meta-data in the working computer memory as well as in files stored on discs. This is all done automatically on-the-fly behind the scene, so that the user does not have to worry about these matters (it is of course possible to change the meta-data to e.g. correct for potential errors). [...] It also includes an additional set of predefined objects and classes, sample and structured data and meta-data, and uses the **S3**-methods to ensure that information is appropriately maintained.*\"\n",
    "\n",
    "About R <http://adv-r.had.co.nz/OO-essentials.html>\"*Underlying every R object is a C structure (or struct) that describes how that object is stored in memory. The struct includes the contents of the object, the information needed for memory management, and, most importantly for this section, a type. This is the base type of an R object. Base types are not really an object system because only the R core team can create new types. As a result, new base types are added very rarely *\"\n",
    "\n",
    "<http://adv-r.had.co.nz/OO-essentials.html>\"*S3 is R’s first and simplest OO system. It is the only OO system used in the base and stats packages, and it’s the most commonly used system in CRAN packages. S3 is informal and ad hoc, but it has a certain elegance in its minimalism: you can’t take away any part of it and still have a useful OO system.*\"\n",
    "\n",
    "More on the S3 \n",
    "<http://adv-r.had.co.nz/S3.html> : \n"
   ]
  },
  {
   "cell_type": "code",
   "execution_count": null,
   "metadata": {
    "name": "sec2.1.3"
   },
   "outputs": [],
   "source": [
    "library(RgoogleMaps)\n",
    "#quick search: select a subset of stations after using the function 'select.station'. NB: this function is to provide overview of what is avaliable, the data itself may need to be downloaded\n",
    "\n",
    "n300=select.station(nmin=300, param=\"t2m\") # meta: stations with more than 300 years of data. n300 is metadata now\n",
    "#n300 #finds Berlin-Tempel (stid: 61710384000) and De Bilt (stid: 63306260000) only\n",
    "# now use the station function to download the observational data:\n",
    "DeBilt_t2m=station(stid='63306260000') #doesn't work in markdown because of question\n",
    "#plot(DeBilt_t2m)\n",
    "class(DeBilt_t2m)\n",
    "#DeBilt_yr=annual(DeBilt_t2m, FUN = 'mean', nmin=200)# this does not work, but if I set nmin to default (help function says a complete year, I get values )\n",
    "DeBilt_yr=annual(DeBilt_t2m, FUN = 'mean')\n",
    "class(DeBilt_yr)\n",
    "plot(DeBilt_yr, new=FALSE) #why do you have to set the ylims?\n",
    "lines(trend(DeBilt_yr),col=\"red\",lwd=2) #works sometimes in console\n",
    "\n"
   ]
  },
  {
   "cell_type": "markdown",
   "metadata": {
    "lines_to_next_cell": 0
   },
   "source": [
    "###Example 2.1 (with minor modifications)"
   ]
  },
  {
   "cell_type": "code",
   "execution_count": null,
   "metadata": {
    "name": "ex2.1.1",
    "warning": false
   },
   "outputs": [],
   "source": [
    "ss <- select.station(cntr='India',param='tmax',src='ghcnd')\n",
    "ss.new <- subset(ss,is=!duplicated(ss$location))"
   ]
  },
  {
   "cell_type": "code",
   "execution_count": null,
   "metadata": {
    "name": "ex2.1.2"
   },
   "outputs": [],
   "source": [
    "# Highlights the location on the map\n",
    "map(ss.new,cex=.7,col='red',bg='pink')\n",
    "ss <- select.station(stid='IN022021900',cntr='india',param='tmax')\n",
    "y <- station(ss)\n",
    "loc(y)\n",
    "points(lon(y),lat(y),pch=19,col='blue',cex=.7)"
   ]
  },
  {
   "cell_type": "code",
   "execution_count": null,
   "metadata": {
    "lines_to_next_cell": 2,
    "name": "ex2.1.3"
   },
   "outputs": [],
   "source": [
    "# aggregate daily values to annual values\n",
    "ya <- annual(y,FUN='mean',nmin=10) \n",
    "# Subset for the period 1970 to 2012\n",
    "ya <- subset(ya,it=c(1970,2012))\n",
    "# plot the time series including the error bar\n",
    "plot(ya,ylim=c(29.5,32.5), new=FALSE)\n",
    "# Add the linear trend as\n",
    "lines(trend(ya),col=\"red\",lwd=2)"
   ]
  },
  {
   "cell_type": "markdown",
   "metadata": {
    "lines_to_next_cell": 0
   },
   "source": [
    "###Example 2.2"
   ]
  },
  {
   "cell_type": "code",
   "execution_count": null,
   "metadata": {
    "lines_to_next_cell": 0,
    "name": "ex2.2.1"
   },
   "outputs": [],
   "source": [
    "# Example of monthly station data:\n",
    "# from ?data: The ability to specify a dataset by name (without quotes) is a convenience: in programming the datasets should be specified by character strings (with quotes). data is an R base function implemented to easily load exampel-data from packages. Supported data-type-files end with .R, .Rdata, and .txt .csv, \n",
    "data(Oslo)\n",
    "class(Oslo) #Oslo has class zoo, i.e. is an unstructured dataframe (or has a class which allows unstructured dataframes) it is 2-d data and and monthly\n",
    "str(Oslo) #str is not string but prints out the STRuctrure of an R-object in a compact way\n",
    "Oslo[0:10]\n",
    "# Example of daily station data:\n",
    "data(ferder)\n",
    "class(ferder)\n",
    "print('ferder')\n",
    "ferder[0:10]\n",
    "# Example of annual station data:\n",
    "class(annual(ferder))\n",
    "print('annual(ferder): ')\n",
    "annual(ferder)[0:10]"
   ]
  },
  {
   "cell_type": "code",
   "execution_count": null,
   "metadata": {
    "name": "ex2.2.2"
   },
   "outputs": [],
   "source": [
    "# Example of a field (3-d on ordered grid) object\n",
    "t2m <- t2m.NCEP(lon=c(-30,30),lat=c(40,70))\n",
    "class(t2m)\n",
    "t2m[0:10,0:10]\n",
    "class(EOF(t2m))"
   ]
  },
  {
   "cell_type": "markdown",
   "metadata": {
    "lines_to_next_cell": 0
   },
   "source": [
    "###Example 2.3 and 2.4"
   ]
  },
  {
   "cell_type": "code",
   "execution_count": null,
   "metadata": {
    "name": "ex2.3_and_2.4"
   },
   "outputs": [],
   "source": [
    "# Load the data for Ferder weather station\n",
    "data(ferder)\n",
    "str(ferder)\n",
    "summary(ferder)"
   ]
  },
  {
   "cell_type": "markdown",
   "metadata": {},
   "source": [
    "Data objects in '*esd*' are determined by a set of classes. \n",
    "\n",
    " 'station' | 'spell' | 'field' | 'eof' | 'pca' | 'cca' | 'ds'| 'dsenmseble' | 'diagnose' | 'trajectory' | 'xval' | 'xsection' | 'mvr' \n",
    " ------------------------------------------------------\n",
    " |"
   ]
  },
  {
   "cell_type": "markdown",
   "metadata": {},
   "source": [
    " '*esd*' graphics biulds on S3 plot methods, and chooses plotting method based on object class. plot(Oslo) and plot.station(Oslo) is the same function if Oslo has class '*station*'. \n",
    "\n",
    "esd-functions are "
   ]
  },
  {
   "cell_type": "markdown",
   "metadata": {},
   "source": [
    " 'plot' | 'map' | 'vec'\n",
    "  ----- | ----- | ------"
   ]
  },
  {
   "cell_type": "markdown",
   "metadata": {},
   "source": [
    "*map* is not based on R-package *maps*. The default projection is lonlat, contour-plot, for events and trajectory it is sphere-projection. Aux. functions include map.googleearth(), lonlatprojection, rotM, gridbox, map2sphere, vec, mask \"*Projections: c(\"lonlat\",\"sphere\",\"np\",\"sp\") - the latter gives stereographic views from the North and south poles.*\"\n",
    "Different functions have different arguments. For map.eof *ip* (i(n)-pattern) is an argument. [Q.: should be limit to point zoom to not zoom to higher res than the coordinates give, and given res. of background map-data.]\n"
   ]
  },
  {
   "cell_type": "markdown",
   "metadata": {
    "lines_to_next_cell": 0
   },
   "source": [
    "###Example 2.5"
   ]
  },
  {
   "cell_type": "code",
   "execution_count": null,
   "metadata": {
    "name": "ex2.5"
   },
   "outputs": [],
   "source": [
    "data(\"bjornholt\")\n",
    "plot(bjornholt, new=FALSE)\n",
    "map(bjornholt,new=FALSE)"
   ]
  },
  {
   "cell_type": "markdown",
   "metadata": {
    "lines_to_next_cell": 0
   },
   "source": [
    "###Example 2.6"
   ]
  },
  {
   "cell_type": "code",
   "execution_count": null,
   "metadata": {
    "lines_to_next_cell": 0,
    "name": "ex2.6"
   },
   "outputs": [],
   "source": [
    "#Get NCEP 2m air temperature for the selected spatial window defined by lon and lat\n",
    "t2m <- t2m.NCEP(lon=c(-30,30),lat=c(40,70))\n",
    "# Computes the EOFs\n",
    "X <- EOF(t2m)\n",
    "# Plot the result\n",
    "plot(X)"
   ]
  },
  {
   "cell_type": "markdown",
   "metadata": {},
   "source": []
  },
  {
   "cell_type": "markdown",
   "metadata": {
    "lines_to_next_cell": 0
   },
   "source": [
    "###Example 2.7"
   ]
  },
  {
   "cell_type": "code",
   "execution_count": null,
   "metadata": {
    "name": "ex 2.7"
   },
   "outputs": [],
   "source": [
    "# Load 10m zonal and meridional wind components\n",
    "# check where you are:\n",
    "#getwd()\n",
    "#DO NOT HAVE FILES\n",
    "#u10 <- retrieve('esd/ESDdata/ERAINT/eraint_elnino.nc',param='u10')\n",
    "#v10 <- retrieve('esd/data/ERAINT/eraint_elnino.nc',param='v10')\n",
    "# Map the data\n",
    "#map(u10,colorbar=FALSE)\n",
    "# Display the vectors\n",
    "#vec(u10,v10,new=FALSE,a=2,length=0.05)"
   ]
  },
  {
   "cell_type": "markdown",
   "metadata": {},
   "source": [
    "More functions in '*esd*': Infographics:\n",
    "\n",
    "Examples are the functions:\n",
    "\n",
    " '*cumugram*' |  '*wheel*' | '*climvar*' | '*diagram*' | '*vis.trends*'\n",
    " ------------| ---------- | ------------| -----------  | --------------\n",
    " cumulative value | seasonal wheel | sd-variance | scatter annual overlay | trends varying length and start"
   ]
  },
  {
   "cell_type": "markdown",
   "metadata": {
    "lines_to_next_cell": 0
   },
   "source": [
    "###Example 2.8"
   ]
  },
  {
   "cell_type": "code",
   "execution_count": null,
   "metadata": {
    "fig.keep": "'all'",
    "hide_input": false,
    "lines_to_next_cell": 0,
    "name": "ex2.8",
    "results": "'hide'",
    "warning": false
   },
   "outputs": [],
   "source": [
    "# Get 2m temperature data for Oslo\n",
    "# (works within MET Norway firewall only)\n",
    "x <- station(stid=18700,param='t2m',src='metnod')\n",
    "x <- subset(x,it=c(1837,2016))\n",
    "## Or gets data from ECA&D as\n",
    "## x <- station(loc=\"Oslo Blindern\",param=’t2m’,src=’ecad’)\n",
    "x <- subset(x,is=duplicated(loc(x))) # to remove duplicated stations\n",
    "\n",
    "\n",
    "# seasonal variations of year-to-year variance\n",
    "climvar(x) #also large printout\n",
    "# daily seasonal cycle for all years\n",
    "diagram(x)\n",
    "# Cumulative average\n",
    "# helenebe: how to supress print out? verbose=FALSE does not change it \n",
    "cumugram(x)\n",
    "# Seasonal wheel\n",
    "#wheel(x,new=TRUE) "
   ]
  },
  {
   "cell_type": "markdown",
   "metadata": {},
   "source": [
    "###Example 2.9."
   ]
  },
  {
   "cell_type": "code",
   "execution_count": null,
   "metadata": {
    "fig.keep": "'all'",
    "hide_input": false,
    "lines_to_next_cell": 0,
    "name": "ex2.9",
    "results": "'hide'",
    "warning": false
   },
   "outputs": [],
   "source": [
    "# Get 2m temperature data for Ferder and calculate annual mean\n",
    "data(ferder)\n",
    "x <- annual(ferder)\n",
    "# Plot the time series and add a trend line\n",
    "plot(x,ylim=c(4,11), new=FALSE)\n",
    "lines(trend(x),col=\"red\",lwd=2)\n",
    "# Visualise trends for various periods 40 years or longer (minlen)\n",
    "# and mark trends that are significant at the 1% level (pmax)\n",
    "vis.trends(x,minlen=40,pmax=0.01, new=FALSE)"
   ]
  },
  {
   "cell_type": "markdown",
   "metadata": {},
   "source": [
    "\n",
    "\n",
    "\n",
    "\n",
    "\n"
   ]
  }
 ],
 "metadata": {
  "jupytext_format_version": "1.0",
  "jupytext_formats": "Rmd:rmarkdown",
  "kernelspec": {
   "display_name": "Python 3",
   "language": "python",
   "name": "python3"
  },
  "language_info": {
   "codemirror_mode": {
    "name": "ipython",
    "version": 3
   },
   "file_extension": ".py",
   "mimetype": "text/x-python",
   "name": "python",
   "nbconvert_exporter": "python",
   "pygments_lexer": "ipython3",
   "version": "3.6.3"
  }
 },
 "nbformat": 4,
 "nbformat_minor": 2
}
